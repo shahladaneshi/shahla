{
  "nbformat": 4,
  "nbformat_minor": 0,
  "metadata": {
    "colab": {
      "name": "NN-MP2-Q1.ipynb",
      "provenance": []
    },
    "kernelspec": {
      "name": "python3",
      "display_name": "Python 3"
    },
    "language_info": {
      "name": "python"
    }
  },
  "cells": [
    {
      "cell_type": "markdown",
      "source": [
        "NN-MP2-Q1"
      ],
      "metadata": {
        "id": "ZqSskratmtqO"
      }
    },
    {
      "cell_type": "code",
      "source": [
        "print('nn')"
      ],
      "metadata": {
        "colab": {
          "base_uri": "https://localhost:8080/"
        },
        "id": "ZK6l8a1Kmy0I",
        "outputId": "16bd30fd-03d8-4cc2-ab3a-748008a44728"
      },
      "execution_count": 1,
      "outputs": [
        {
          "output_type": "stream",
          "name": "stdout",
          "text": [
            "nn\n"
          ]
        }
      ]
    }
  ]
}