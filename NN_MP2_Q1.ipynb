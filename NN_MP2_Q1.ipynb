{
  "nbformat": 4,
  "nbformat_minor": 0,
  "metadata": {
    "colab": {
      "name": "NN-MP2-Q1.ipynb",
      "provenance": [],
      "authorship_tag": "ABX9TyOuGgugzbKfJzcdh0Njwuur",
      "include_colab_link": true
    },
    "kernelspec": {
      "name": "python3",
      "display_name": "Python 3"
    },
    "language_info": {
      "name": "python"
    }
  },
  "cells": [
    {
      "cell_type": "markdown",
      "metadata": {
        "id": "view-in-github",
        "colab_type": "text"
      },
      "source": [
        "<a href=\"https://colab.research.google.com/github/shahladaneshi/shahla/blob/master/NN_MP2_Q1.ipynb\" target=\"_parent\"><img src=\"https://colab.research.google.com/assets/colab-badge.svg\" alt=\"Open In Colab\"/></a>"
      ]
    },
    {
      "cell_type": "markdown",
      "source": [
        "NN-MP2-Q1"
      ],
      "metadata": {
        "id": "ZqSskratmtqO"
      }
    },
    {
      "cell_type": "code",
      "source": [
        "print('nn')"
      ],
      "metadata": {
        "id": "ZK6l8a1Kmy0I",
        "outputId": "16bd30fd-03d8-4cc2-ab3a-748008a44728",
        "colab": {
          "base_uri": "https://localhost:8080/"
        }
      },
      "execution_count": null,
      "outputs": [
        {
          "output_type": "stream",
          "name": "stdout",
          "text": [
            "nn\n"
          ]
        }
      ]
    }
  ]
}